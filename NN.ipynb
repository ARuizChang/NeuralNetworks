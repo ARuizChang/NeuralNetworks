{
  "nbformat": 4,
  "nbformat_minor": 0,
  "metadata": {
    "colab": {
      "provenance": [],
      "mount_file_id": "1qb0gcwx0y7Ov317eUcll6149WvPIjBut",
      "authorship_tag": "ABX9TyOymY3FKT6SbqGGZ4c6jkO6",
      "include_colab_link": true
    },
    "kernelspec": {
      "name": "python3",
      "display_name": "Python 3"
    },
    "language_info": {
      "name": "python"
    }
  },
  "cells": [
    {
      "cell_type": "markdown",
      "metadata": {
        "id": "view-in-github",
        "colab_type": "text"
      },
      "source": [
        "<a href=\"https://colab.research.google.com/github/ARuizChang/NeuralNetworks/blob/main/NN.ipynb\" target=\"_parent\"><img src=\"https://colab.research.google.com/assets/colab-badge.svg\" alt=\"Open In Colab\"/></a>"
      ]
    },
    {
      "cell_type": "markdown",
      "source": [
        "#MNIST NN"
      ],
      "metadata": {
        "id": "vlUZXPPOuk_w"
      }
    },
    {
      "cell_type": "code",
      "execution_count": null,
      "metadata": {
        "id": "tW3-EabmtN7y"
      },
      "outputs": [],
      "source": [
        "import numpy as np\n",
        "import pandas as pd\n",
        "from matplotlib import pyplot as plt\n",
        "from scipy.ndimage import rotate, shift, zoom\n"
      ]
    },
    {
      "cell_type": "code",
      "source": [
        "# Load and preprocess data\n",
        "data = pd.read_csv('/train.csv')\n",
        "data = np.array(data)\n",
        "m, n = data.shape\n",
        "np.random.shuffle(data)\n",
        "\n",
        "# Normalize data\n",
        "X = data[:, 1:] / 255.0\n",
        "Y = data[:, 0].astype(np.int32)  # Convert to integers\n",
        "\n",
        "# Split data into training and development sets\n",
        "X_dev = X[:1000]\n",
        "Y_dev = Y[:1000].astype(np.int32)  # Convert to integers\n",
        "X_train = X[1000:]\n",
        "Y_train = Y[1000:].astype(np.int32)  # Convert to integers\n"
      ],
      "metadata": {
        "id": "Nxz1yuoSuKBe"
      },
      "execution_count": null,
      "outputs": []
    },
    {
      "cell_type": "code",
      "source": [
        "Y_train"
      ],
      "metadata": {
        "colab": {
          "base_uri": "https://localhost:8080/"
        },
        "id": "Iagjqc-3uNel",
        "outputId": "362192fe-5af7-47fc-e708-b93e02ea3622"
      },
      "execution_count": null,
      "outputs": [
        {
          "output_type": "execute_result",
          "data": {
            "text/plain": [
              "array([5, 8, 0, ..., 0, 1, 0], dtype=int32)"
            ]
          },
          "metadata": {},
          "execution_count": 26
        }
      ]
    },
    {
      "cell_type": "markdown",
      "source": [
        "# Simple MNIST NN\n",
        "\n",
        "## Neural Network Architecture\n",
        "* Input layer $a^{[0]}$ will have 784 units corresponding to the 784 pixels in each 28x28 input image.\n",
        "* Hidden layer $a^{[1]}$ will have 100 units with ReLU activation.\n",
        "* Hidden layer $a^{[2]}$ will have 50 units with ReLU activation.\n",
        "* Hidden layer $a^{[3]}$ will have 20 units with ReLU activation.\n",
        "* Output layer $a^{[4]}$ will have 10 units with softmax activation.\n",
        "\n",
        "## Forward Pass\n",
        "$Z^{[1]} = W^{[1]} X + b^{[1]}$\n",
        "\n",
        "$A^{[1]} = g_{\\text{ReLU}}(Z^{[1]})$\n",
        "\n",
        "$Z^{[2]} = W^{[2]} A^{[1]} + b^{[2]}$\n",
        "\n",
        "$A^{[2]} = g_{\\text{ReLU}}(Z^{[2]})$\n",
        "\n",
        "$Z^{[3]} = W^{[3]} A^{[2]} + b^{[3]}$\n",
        "\n",
        "$A^{[3]} = g_{\\text{ReLU}}(Z^{[3]})$\n",
        "\n",
        "$Z^{[4]} = W^{[4]} A^{[3]} + b^{[4]}$\n",
        "\n",
        "$A^{[4]} = g_{\\text{softmax}}(Z^{[4]})$\n",
        "\n",
        "## Backward Propagation\n",
        "$dZ^{[4]} = A^{[4]} - Y$\n",
        "\n",
        "$dW^{[4]} = \\frac{1}{m} dZ^{[4]} A^{[3]T}$\n",
        "\n",
        "$dB^{[4]} = \\frac{1}{m} \\sum dZ^{[4]}$\n",
        "\n",
        "$dZ^{[3]} = W^{[4]T} dZ^{[4]} \\cdot g^{[3]\\prime} (Z^{[3]})$\n",
        "\n",
        "$dW^{[3]} = \\frac{1}{m} dZ^{[3]} A^{[2]T}$\n",
        "\n",
        "$dB^{[3]} = \\frac{1}{m} \\sum dZ^{[3]}$\n",
        "\n",
        "$dZ^{[2]} = W^{[3]T} dZ^{[3]} \\cdot g^{[2]\\prime} (Z^{[2]})$\n",
        "\n",
        "$dW^{[2]} = \\frac{1}{m} dZ^{[2]} A^{[1]T}$\n",
        "\n",
        "$dB^{[2]} = \\frac{1}{m} \\sum dZ^{[2]}$\n",
        "\n",
        "$dZ^{[1]} = W^{[2]T} dZ^{[2]} \\cdot g^{[1]\\prime} (Z^{[1]})$\n",
        "\n",
        "$dW^{[1]} = \\frac{1}{m} dZ^{[1]} A^{[0]T}$\n",
        "\n",
        "$dB^{[1]} = \\frac{1}{m} \\sum dZ^{[1]}$\n",
        "\n",
        "## Parameter Updates\n",
        "$W^{[4]} := W^{[4]} - \\alpha dW^{[4]}$\n",
        "\n",
        "$b^{[4]} := b^{[4]} - \\alpha db^{[4]}$\n",
        "\n",
        "$W^{[3]} := W^{[3]} - \\alpha dW^{[3]}$\n",
        "\n",
        "$b^{[3]} := b^{[3]} - \\alpha db^{[3]}$\n",
        "\n",
        "$W^{[2]} := W^{[2]} - \\alpha dW^{[2]}$\n",
        "\n",
        "$b^{[2]} := b^{[2]} - \\alpha db^{[2]}$\n",
        "\n",
        "$W^{[1]} := W^{[1]} - \\alpha dW^{[1]}$\n",
        "\n",
        "$b^{[1]} := b^{[1]} - \\alpha db^{[1]}$\n",
        "\n",
        "## ReLU\n",
        "$F(x) = \\max(0, x)$\n",
        "\n",
        "## Softmax\n",
        "$\\text{softmax}(x_i) = \\frac{e^{x_i}}{\\sum_{j=1}^{n} e^{x_j}}$\n",
        "\n",
        "## Variables and Shapes\n",
        "\n",
        "### Forward Pass\n",
        "* $A^{[0]} = X$: 784 x m\n",
        "* $Z^{[1]} \\sim A^{[1]}$: 100 x m\n",
        "* $W^{[1]}$: 100 x 784 (as $W^{[1]} A^{[0]} \\sim Z^{[1]}$)\n",
        "* $b^{[1]}$: 100 x 1\n",
        "* $Z^{[2]} \\sim A^{[2]}$: 50 x m\n",
        "* $W^{[2]}$: 50 x 100 (as $W^{[2]} A^{[1]} \\sim Z^{[2]}$)\n",
        "* $b^{[2]}$: 50 x 1\n",
        "* $Z^{[3]} \\sim A^{[3]}$: 20 x m\n",
        "* $W^{[3]}$: 20 x 50 (as $W^{[3]} A^{[2]} \\sim Z^{[3]}$)\n",
        "* $b^{[3]}$: 20 x 1\n",
        "* $Z^{[4]} \\sim A^{[4]}$: 10 x m\n",
        "* $W^{[4]}$: 10 x 20 (as $W^{[4]} A^{[3]} \\sim Z^{[4]}$)\n",
        "* $b^{[4]}$: 10 x 1\n",
        "\n",
        "### Backpropagation\n",
        "* $dZ^{[4]}$: 10 x m ($\\sim A^{[4]}$)\n",
        "* $dW^{[4]}$: 10 x 20\n",
        "* $dB^{[4]}$: 10 x 1\n",
        "* $dZ^{[3]}$: 20 x m ($\\sim A^{[3]}$)\n",
        "* $dW^{[3]}$: 20 x 50\n",
        "* $dB^{[3]}$: 20 x 1\n",
        "* $dZ^{[2]}$: 50 x m ($\\sim A^{[2]}$)\n",
        "* $dW^{[2]}$: 50 x 100\n",
        "* $dB^{[2]}$: 50 x 1\n",
        "* $dZ^{[1]}$: 100 x m ($\\sim A^{[1]}$)\n",
        "* $dW^{[1]}$: 100 x 784\n",
        "* $dB^{[1]}$: 100 x 1\n",
        "\n",
        "# Adam Optimizer\n",
        "\n",
        "Initialize the first moment vector $m$ and the second moment vector $v$ to zero:\n",
        "$$m_0 = 0, \\quad v_0 = 0$$\n",
        "\n",
        "At each time step $t$, compute the gradients $g_t$ of the loss function with respect to the parameters:\n",
        "$$g_t = \\nabla_{\\theta} J(\\theta_t)$$\n",
        "\n",
        "Update the biased first moment estimate:\n",
        "$$m_t = \\beta_1 \\cdot m_{t-1} + (1 - \\beta_1) \\cdot g_t$$\n",
        "\n",
        "Update the biased second moment estimate:\n",
        "$$v_t = \\beta_2 \\cdot v_{t-1} + (1 - \\beta_2) \\cdot g_t^2$$\n",
        "\n",
        "Compute bias-corrected first moment estimate:\n",
        "$$\\hat{m}_t = \\frac{m_t}{1 - \\beta_1^t}$$\n",
        "\n",
        "Compute bias-corrected second moment estimate:\n",
        "$$\\hat{v}_t = \\frac{v_t}{1 - \\beta_2^t}$$\n",
        "\n",
        "Update the parameters:\n",
        "$$\\theta_t = \\theta_{t-1} - \\alpha \\cdot \\frac{\\hat{m}_t}{\\sqrt{\\hat{v}_t} + \\epsilon}$$\n",
        "\n",
        "### Parameters:\n",
        "- $\\alpha$: Learning rate (default is 0.001)\n",
        "- $\\beta_1$: Exponential decay rate for the first moment estimates (default is 0.9)\n",
        "- $\\beta_2$: Exponential decay rate for the second moment estimates (default is 0.999)\n",
        "- $\\epsilon$: Small constant for numerical stability (default is 1e-8)"
      ],
      "metadata": {
        "id": "qD_U2c0puOM8"
      }
    },
    {
      "cell_type": "code",
      "source": [
        "\n",
        "# One-hot encode labels\n",
        "def one_hot(Y):\n",
        "    num_classes = int(np.max(Y)) + 1\n",
        "    one_hot_Y = np.zeros((Y.shape[0], num_classes))  # Change to 2D\n",
        "    one_hot_Y[np.arange(Y.shape[0]), Y.astype(np.int32)] = 1\n",
        "    return one_hot_Y.T  # Transpose to get shape (num_classes, m)\n",
        "\n",
        "# Before training\n",
        "Y_train = one_hot(Y_train)\n",
        "Y_dev = one_hot(Y_dev)\n",
        "\n",
        "def random_rotation(image, angle_range=(-15, 15)):\n",
        "    angle = float(np.random.uniform(angle_range[0], angle_range[1]))\n",
        "    rotated_image = rotate(image, angle, reshape=False)\n",
        "    return rotated_image\n",
        "\n",
        "def random_shift(image, shift_range=(-2, 2)):\n",
        "    shift_values = [float(np.random.uniform(shift_range[0], shift_range[1])) for _ in range(2)]\n",
        "    shifted_image = shift(image, shift_values)\n",
        "    return shifted_image\n",
        "\n",
        "def random_zoom(image, zoom_range=(0.9, 1.1)):\n",
        "    zoom_factor = float(np.random.uniform(zoom_range[0], zoom_range[1]))\n",
        "    zoomed_image = zoom(image, zoom_factor)\n",
        "    return zoomed_image\n",
        "\n",
        "def resize_image(image, shape=(28, 28)):\n",
        "    resized_image = zoom(image, (shape[0] / image.shape[0], shape[1] / image.shape[1]))\n",
        "    return resized_image\n",
        "\n",
        "def augment_image(image):\n",
        "    image = image.reshape(28, 28)\n",
        "    image = random_rotation(image)\n",
        "    image = resize_image(image, (28, 28))\n",
        "    image = random_shift(image)\n",
        "    image = resize_image(image, (28, 28))\n",
        "    image = random_zoom(image)\n",
        "    image = resize_image(image, (28, 28))\n",
        "    return image.flatten()\n",
        "\n",
        "def augment_data(X):\n",
        "    augmented_X = np.zeros_like(X)\n",
        "    for i in range(X.shape[0]):\n",
        "        augmented_X[i] = augment_image(X[i])\n",
        "    return augmented_X\n",
        "\n",
        "# Augment training data\n",
        "X_train_augmented = augment_data(X_train)\n",
        "\n",
        "# Initialize parameters\n",
        "def init_params():\n",
        "    W1 = np.random.rand(100, 784) - 0.5\n",
        "    b1 = np.random.rand(100, 1) - 0.5\n",
        "    W2 = np.random.rand(50, 100) - 0.5\n",
        "    b2 = np.random.rand(50, 1) - 0.5\n",
        "    W3 = np.random.rand(20, 50) - 0.5\n",
        "    b3 = np.random.rand(20, 1) - 0.5\n",
        "    W4 = np.random.rand(10, 20) - 0.5\n",
        "    b4 = np.random.rand(10, 1) - 0.5\n",
        "    return W1, b1, W2, b2, W3, b3, W4, b4\n",
        "\n",
        "# ReLU activation function\n",
        "def ReLU(Z):\n",
        "    return np.maximum(0, Z)\n",
        "\n",
        "# Softmax activation function\n",
        "def softmax(Z):\n",
        "    expZ = np.exp(Z - np.max(Z))\n",
        "    return expZ / expZ.sum(axis=0, keepdims=True)\n",
        "\n",
        "# Dropout function\n",
        "def dropout(A, keep_prob):\n",
        "    D = np.random.rand(A.shape[0], A.shape[1]) < keep_prob\n",
        "    A = A * D\n",
        "    A = A / keep_prob\n",
        "    return A, D\n",
        "\n",
        "# Forward pass with dropout\n",
        "def forward_pass(X, W1, b1, W2, b2, W3, b3, W4, b4, keep_prob=0.8):\n",
        "    Z1 = W1.dot(X) + b1\n",
        "    A1 = ReLU(Z1)\n",
        "    A1, D1 = dropout(A1, keep_prob)\n",
        "\n",
        "    Z2 = W2.dot(A1) + b2\n",
        "    A2 = ReLU(Z2)\n",
        "    A2, D2 = dropout(A2, keep_prob)\n",
        "\n",
        "    Z3 = W3.dot(A2) + b3\n",
        "    A3 = ReLU(Z3)\n",
        "    A3, D3 = dropout(A3, keep_prob)\n",
        "\n",
        "    Z4 = W4.dot(A3) + b4\n",
        "    A4 = softmax(Z4)\n",
        "\n",
        "    return Z1, A1, D1, Z2, A2, D2, Z3, A3, D3, Z4, A4\n",
        "\n",
        "# ReLU derivative\n",
        "def ReLU_derivative(Z):\n",
        "    return Z > 0\n",
        "\n",
        "# Backward propagation with dropout\n",
        "def backward_prop(X, Y, Z1, A1, D1, Z2, A2, D2, Z3, A3, D3, Z4, A4, W2, W3, W4, keep_prob=0.8):\n",
        "    m = Y.shape[1]\n",
        "    dZ4 = A4 - Y\n",
        "    dW4 = 1/m * dZ4.dot(A3.T)\n",
        "    db4 = 1/m * np.sum(dZ4, axis=1, keepdims=True)\n",
        "\n",
        "    dA3 = W4.T.dot(dZ4)\n",
        "    dA3 = dA3 * D3\n",
        "    dA3 = dA3 / keep_prob\n",
        "    dZ3 = dA3 * ReLU_derivative(Z3)\n",
        "    dW3 = 1/m * dZ3.dot(A2.T)\n",
        "    db3 = 1/m * np.sum(dZ3, axis=1, keepdims=True)\n",
        "\n",
        "    dA2 = W3.T.dot(dZ3)\n",
        "    dA2 = dA2 * D2\n",
        "    dA2 = dA2 / keep_prob\n",
        "    dZ2 = dA2 * ReLU_derivative(Z2)\n",
        "    dW2 = 1/m * dZ2.dot(A1.T)\n",
        "    db2 = 1/m * np.sum(dZ2, axis=1, keepdims=True)\n",
        "\n",
        "    dA1 = W2.T.dot(dZ2)\n",
        "    dA1 = dA1 * D1\n",
        "    dA1 = dA1 / keep_prob\n",
        "    dZ1 = dA1 * ReLU_derivative(Z1)\n",
        "    dW1 = 1/m * dZ1.dot(X.T)\n",
        "    db1 = 1/m * np.sum(dZ1, axis=1, keepdims=True)\n",
        "\n",
        "    return dW1, db1, dW2, db2, dW3, db3, dW4, db4\n",
        "\n",
        "# Adam optimizer\n",
        "def adam_optimizer(W1, b1, W2, b2, W3, b3, W4, b4, dW1, db1, dW2, db2, dW3, db3, dW4, db4, alpha, beta1, beta2, epsilon, t, mW, mb, vW, vb):\n",
        "    mW1, mW2, mW3, mW4 = mW\n",
        "    mb1, mb2, mb3, mb4 = mb\n",
        "    vW1, vW2, vW3, vW4 = vW\n",
        "    vb1, vb2, vb3, vb4 = vb\n",
        "\n",
        "    # Update biased first moment estimate\n",
        "    mW1 = beta1 * mW1 + (1 - beta1) * dW1\n",
        "    mb1 = beta1 * mb1 + (1 - beta1) * db1\n",
        "    mW2 = beta1 * mW2 + (1 - beta1) * dW2\n",
        "    mb2 = beta1 * mb2 + (1 - beta1) * db2\n",
        "    mW3 = beta1 * mW3 + (1 - beta1) * dW3\n",
        "    mb3 = beta1 * mb3 + (1 - beta1) * db3\n",
        "    mW4 = beta1 * mW4 + (1 - beta1) * dW4\n",
        "    mb4 = beta1 * mb4 + (1 - beta1) * db4\n",
        "\n",
        "    # Update biased second moment estimate\n",
        "    vW1 = beta2 * vW1 + (1 - beta2) * (dW1 ** 2)\n",
        "    vb1 = beta2 * vb1 + (1 - beta2) * (db1 ** 2)\n",
        "    vW2 = beta2 * vW2 + (1 - beta2) * (dW2 ** 2)\n",
        "    vb2 = beta2 * vb2 + (1 - beta2) * (db2 ** 2)\n",
        "    vW3 = beta2 * vW3 + (1 - beta2) * (dW3 ** 2)\n",
        "    vb3 = beta2 * vb3 + (1 - beta2) * (db3 ** 2)\n",
        "    vW4 = beta2 * vW4 + (1 - beta2) * (dW4 ** 2)\n",
        "    vb4 = beta2 * vb4 + (1 - beta2) * (db4 ** 2)\n",
        "\n",
        "    # Compute bias-corrected first moment estimate\n",
        "    mW1_corr = mW1 / (1 - beta1 ** t)\n",
        "    mb1_corr = mb1 / (1 - beta1 ** t)\n",
        "    mW2_corr = mW2 / (1 - beta1 ** t)\n",
        "    mb2_corr = mb2 / (1 - beta1 ** t)\n",
        "    mW3_corr = mW3 / (1 - beta1 ** t)\n",
        "    mb3_corr = mb3 / (1 - beta1 ** t)\n",
        "    mW4_corr = mW4 / (1 - beta1 ** t)\n",
        "    mb4_corr = mb4 / (1 - beta1 ** t)\n",
        "\n",
        "    # Compute bias-corrected second moment estimate\n",
        "    vW1_corr = vW1 / (1 - beta2 ** t)\n",
        "    vb1_corr = vb1 / (1 - beta2 ** t)\n",
        "    vW2_corr = vW2 / (1 - beta2 ** t)\n",
        "    vb2_corr = vb2 / (1 - beta2 ** t)\n",
        "    vW3_corr = vW3 / (1 - beta2 ** t)\n",
        "    vb3_corr = vb3 / (1 - beta2 ** t)\n",
        "    vW4_corr = vW4 / (1 - beta2 ** t)\n",
        "    vb4_corr = vb4 / (1 - beta2 ** t)\n",
        "\n",
        "    # Update parameters\n",
        "    W1 -= alpha * mW1_corr / (np.sqrt(vW1_corr) + epsilon)\n",
        "    b1 -= alpha * mb1_corr / (np.sqrt(vb1_corr) + epsilon)\n",
        "    W2 -= alpha * mW2_corr / (np.sqrt(vW2_corr) + epsilon)\n",
        "    b2 -= alpha * mb2_corr / (np.sqrt(vb2_corr) + epsilon)\n",
        "    W3 -= alpha * mW3_corr / (np.sqrt(vW3_corr) + epsilon)\n",
        "    b3 -= alpha * mb3_corr / (np.sqrt(vb3_corr) + epsilon)\n",
        "    W4 -= alpha * mW4_corr / (np.sqrt(vW4_corr) + epsilon)\n",
        "    b4 -= alpha * mb4_corr / (np.sqrt(vb4_corr) + epsilon)\n",
        "\n",
        "    return W1, b1, W2, b2, W3, b3, W4, b4, mW, mb, vW, vb\n",
        "\n"
      ],
      "metadata": {
        "id": "h8ylCS7puU-h"
      },
      "execution_count": null,
      "outputs": []
    },
    {
      "cell_type": "code",
      "source": [
        "# Gradient descent with Adam optimizer and learning rate scheduling\n",
        "def gradient_descent(X, Y, alpha, iterations, decay_rate=0.1, decay_step=100):\n",
        "    W1, b1, W2, b2, W3, b3, W4, b4 = init_params()\n",
        "    mW = [np.zeros_like(W1), np.zeros_like(W2), np.zeros_like(W3), np.zeros_like(W4)]\n",
        "    mb = [np.zeros_like(b1), np.zeros_like(b2), np.zeros_like(b3), np.zeros_like(b4)]\n",
        "    vW = [np.zeros_like(W1), np.zeros_like(W2), np.zeros_like(W3), np.zeros_like(W4)]\n",
        "    vb = [np.zeros_like(b1), np.zeros_like(b2), np.zeros_like(b3), np.zeros_like(b4)]\n",
        "    beta1, beta2, epsilon = 0.9, 0.999, 1e-8\n",
        "    t = 0\n",
        "\n",
        "    for i in range(iterations):\n",
        "        t += 1\n",
        "        Z1, A1, D1, Z2, A2, D2, Z3, A3, D3, Z4, A4 = forward_pass(X.T, W1, b1, W2, b2, W3, b3, W4, b4)\n",
        "        dW1, db1, dW2, db2, dW3, db3, dW4, db4 = backward_prop(X.T, Y, Z1, A1, D1, Z2, A2, D2, Z3, A3, D3, Z4, A4, W2, W3, W4)\n",
        "        W1, b1, W2, b2, W3, b3, W4, b4, mW, mb, vW, vb = adam_optimizer(W1, b1, W2, b2, W3, b3, W4, b4, dW1, db1, dW2, db2, dW3, db3, dW4, db4, alpha, beta1, beta2, epsilon, t, mW, mb, vW, vb)\n",
        "\n",
        "        # Learning rate scheduling\n",
        "        if i % decay_step == 0 and i != 0:\n",
        "            alpha = alpha * (1 / (1 + decay_rate * i))\n",
        "\n",
        "        if i % 100 == 0:\n",
        "            predictions = np.argmax(A4, axis=0)\n",
        "            accuracy = np.mean(predictions == np.argmax(Y, axis=0))\n",
        "            print(f\"Iteration {i}, Accuracy: {accuracy}, Learning Rate: {alpha}\")\n",
        "    return W1, b1, W2, b2, W3, b3, W4, b4\n",
        "\n"
      ],
      "metadata": {
        "id": "8z8-pUQPuY4k"
      },
      "execution_count": null,
      "outputs": []
    },
    {
      "cell_type": "code",
      "source": [
        "# Train the model\n",
        "W1, b1, W2, b2, W3, b3, W4, b4 = gradient_descent(X_train_augmented, Y_train, alpha=0.10, iterations=1000)\n"
      ],
      "metadata": {
        "id": "8G0NtgZiucD6",
        "colab": {
          "base_uri": "https://localhost:8080/"
        },
        "outputId": "d4201477-4668-45d1-85d4-7938aa35045d"
      },
      "execution_count": null,
      "outputs": [
        {
          "output_type": "stream",
          "name": "stdout",
          "text": [
            "Iteration 0, Accuracy: 0.10468292682926829, Learning Rate: 0.1\n"
          ]
        }
      ]
    },
    {
      "cell_type": "code",
      "source": [
        "# Evaluate the model\n",
        "Z1, A1, D1, Z2, A2, D2, Z3, A3, D3, Z4, A4 = forward_pass(X_dev.T, W1, b1, W2, b2, W3, b3, W4, b4, keep_prob=1.0)  # No dropout during evaluation\n",
        "predictions = np.argmax(A4, axis=0)\n",
        "accuracy = np.mean(predictions == np.argmax(Y_dev, axis=0))\n",
        "print(f\"Development set accuracy: {accuracy}\")\n",
        "\n",
        "def display_prediction(index):\n",
        "    plt.imshow(X_dev[index].reshape(28, 28), cmap='gray')\n",
        "    plt.title(f\"Prediction: {predictions[index]}, True Label: {np.argmax(Y_dev[:, index])}\")\n",
        "    plt.show()"
      ],
      "metadata": {
        "id": "uRTfYN7Tuej4",
        "colab": {
          "base_uri": "https://localhost:8080/"
        },
        "outputId": "94400075-caf2-41fa-ac36-1eff2c53cb31"
      },
      "execution_count": null,
      "outputs": [
        {
          "output_type": "stream",
          "name": "stdout",
          "text": [
            "Development set accuracy: 0.163\n"
          ]
        }
      ]
    },
    {
      "cell_type": "code",
      "source": [
        "display_prediction(0)\n",
        "display_prediction(1)\n",
        "display_prediction(2)\n",
        "display_prediction(3)"
      ],
      "metadata": {
        "id": "eAFvUR_nuggg",
        "colab": {
          "base_uri": "https://localhost:8080/",
          "height": 1000
        },
        "outputId": "6bc39ffa-f9d4-45dd-fc1a-1da8cf7bcb03"
      },
      "execution_count": null,
      "outputs": [
        {
          "output_type": "display_data",
          "data": {
            "text/plain": [
              "<Figure size 640x480 with 1 Axes>"
            ],
            "image/png": "[encoded data removed]"
          },
          "metadata": {}
        },
        {
          "output_type": "display_data",
          "data": {
            "text/plain": [
              "<Figure size 640x480 with 1 Axes>"
            ],
            "image/png": "[encoded data removed]"
          },
          "metadata": {}
        },
        {
          "output_type": "display_data",
          "data": {
            "text/plain": [
              "<Figure size 640x480 with 1 Axes>"
            ],
            "image/png": "[encoded data removed]"
          },
          "metadata": {}
        },
        {
          "output_type": "display_data",
          "data": {
            "text/plain": [
              "<Figure size 640x480 with 1 Axes>"
            ],
            "image/png": "[encoded data removed]"
          },
          "metadata": {}
        }
      ]
    }
  ]
}