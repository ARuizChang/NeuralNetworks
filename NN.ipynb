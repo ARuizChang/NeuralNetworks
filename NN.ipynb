{
  "cells": [
    {
      "cell_type": "markdown",
      "metadata": {
        "id": "view-in-github",
        "colab_type": "text"
      },
      "source": [
        "<a href=\"https://colab.research.google.com/github/ARuizChang/NeuralNetworks/blob/main/NN.ipynb\" target=\"_parent\"><img src=\"https://colab.research.google.com/assets/colab-badge.svg\" alt=\"Open In Colab\"/></a>"
      ]
    },
    {
      "cell_type": "markdown",
      "metadata": {
        "id": "vlUZXPPOuk_w"
      },
      "source": [
        "#MNIST NN"
      ]
    },
    {
      "cell_type": "code",
      "execution_count": 111,
      "metadata": {
        "colab": {
          "base_uri": "https://localhost:8080/"
        },
        "id": "EEaRd71nCuwV",
        "outputId": "5aa5b837-b95a-49f8-b97e-495711855377"
      },
      "outputs": [
        {
          "output_type": "stream",
          "name": "stdout",
          "text": [
            "--2025-01-27 16:33:18--  https://raw.githubusercontent.com/ARuizChang/NeuralNetworks/refs/heads/main/train.csv\n",
            "Resolving raw.githubusercontent.com (raw.githubusercontent.com)... 185.199.110.133, 185.199.111.133, 185.199.109.133, ...\n",
            "Connecting to raw.githubusercontent.com (raw.githubusercontent.com)|185.199.110.133|:443... connected.\n",
            "HTTP request sent, awaiting response... 200 OK\n",
            "Length: 76733040 (73M) [text/plain]\n",
            "Saving to: ‘train.csv.13’\n",
            "\n",
            "train.csv.13        100%[===================>]  73.18M   140MB/s    in 0.5s    \n",
            "\n",
            "2025-01-27 16:33:19 (140 MB/s) - ‘train.csv.13’ saved [76733040/76733040]\n",
            "\n"
          ]
        }
      ],
      "source": [
        "!wget https://raw.githubusercontent.com/ARuizChang/NeuralNetworks/refs/heads/main/train.csv"
      ]
    },
    {
      "cell_type": "code",
      "execution_count": 112,
      "metadata": {
        "id": "tW3-EabmtN7y"
      },
      "outputs": [],
      "source": [
        "import numpy as np\n",
        "import pandas as pd\n",
        "from matplotlib import pyplot as plt\n",
        "from scipy.ndimage import rotate, shift, zoom\n"
      ]
    },
    {
      "cell_type": "code",
      "execution_count": 113,
      "metadata": {
        "id": "Nxz1yuoSuKBe"
      },
      "outputs": [],
      "source": [
        "# Load and preprocess data\n",
        "data = pd.read_csv('train.csv')\n",
        "data = np.array(data)\n",
        "m, n = data.shape\n",
        "np.random.shuffle(data)\n",
        "\n",
        "# Normalize data\n",
        "X = data[:, 1:] / 255.0\n",
        "Y = data[:, 0].astype(np.int32)  # Convert to integers\n",
        "\n",
        "# Split data into training and development sets\n",
        "X_dev = X[:1000]\n",
        "Y_dev = Y[:1000].astype(np.int32)  # Convert to integers\n",
        "X_train = X[1000:]\n",
        "Y_train = Y[1000:].astype(np.int32)  # Convert to integers\n"
      ]
    },
    {
      "cell_type": "code",
      "execution_count": 114,
      "metadata": {
        "colab": {
          "base_uri": "https://localhost:8080/"
        },
        "id": "Iagjqc-3uNel",
        "outputId": "7f4af6b8-47dc-4aeb-fd28-b15bd57c7dfd"
      },
      "outputs": [
        {
          "output_type": "execute_result",
          "data": {
            "text/plain": [
              "array([1, 2, 0, ..., 5, 7, 6], dtype=int32)"
            ]
          },
          "metadata": {},
          "execution_count": 114
        }
      ],
      "source": [
        "Y_train"
      ]
    },
    {
      "cell_type": "markdown",
      "metadata": {
        "id": "qD_U2c0puOM8"
      },
      "source": [
        "# Simple MNIST NN\n",
        "\n",
        "## Neural Network Architecture\n",
        "* Input layer $a^{[0]}$ will have 784 units corresponding to the 784 pixels in each 28x28 input image.\n",
        "* Hidden layer $a^{[1]}$ will have 100 units with ReLU activation.\n",
        "* Hidden layer $a^{[2]}$ will have 50 units with ReLU activation.\n",
        "* Hidden layer $a^{[3]}$ will have 20 units with ReLU activation.\n",
        "* Output layer $a^{[4]}$ will have 10 units with softmax activation.\n",
        "\n",
        "## Forward Pass\n",
        "$Z^{[1]} = W^{[1]} X + b^{[1]}$\n",
        "\n",
        "$A^{[1]} = g_{\\text{ReLU}}(Z^{[1]})$\n",
        "\n",
        "$Z^{[2]} = W^{[2]} A^{[1]} + b^{[2]}$\n",
        "\n",
        "$A^{[2]} = g_{\\text{ReLU}}(Z^{[2]})$\n",
        "\n",
        "$Z^{[3]} = W^{[3]} A^{[2]} + b^{[3]}$\n",
        "\n",
        "$A^{[3]} = g_{\\text{ReLU}}(Z^{[3]})$\n",
        "\n",
        "$Z^{[4]} = W^{[4]} A^{[3]} + b^{[4]}$\n",
        "\n",
        "$A^{[4]} = g_{\\text{softmax}}(Z^{[4]})$\n",
        "\n",
        "## Backward Propagation\n",
        "$dZ^{[4]} = A^{[4]} - Y$\n",
        "\n",
        "$dW^{[4]} = \\frac{1}{m} dZ^{[4]} A^{[3]T}$\n",
        "\n",
        "$dB^{[4]} = \\frac{1}{m} \\sum dZ^{[4]}$\n",
        "\n",
        "$dZ^{[3]} = W^{[4]T} dZ^{[4]} \\cdot g^{[3]\\prime} (Z^{[3]})$\n",
        "\n",
        "$dW^{[3]} = \\frac{1}{m} dZ^{[3]} A^{[2]T}$\n",
        "\n",
        "$dB^{[3]} = \\frac{1}{m} \\sum dZ^{[3]}$\n",
        "\n",
        "$dZ^{[2]} = W^{[3]T} dZ^{[3]} \\cdot g^{[2]\\prime} (Z^{[2]})$\n",
        "\n",
        "$dW^{[2]} = \\frac{1}{m} dZ^{[2]} A^{[1]T}$\n",
        "\n",
        "$dB^{[2]} = \\frac{1}{m} \\sum dZ^{[2]}$\n",
        "\n",
        "$dZ^{[1]} = W^{[2]T} dZ^{[2]} \\cdot g^{[1]\\prime} (Z^{[1]})$\n",
        "\n",
        "$dW^{[1]} = \\frac{1}{m} dZ^{[1]} A^{[0]T}$\n",
        "\n",
        "$dB^{[1]} = \\frac{1}{m} \\sum dZ^{[1]}$\n",
        "\n",
        "## Parameter Updates\n",
        "$W^{[4]} := W^{[4]} - \\alpha dW^{[4]}$\n",
        "\n",
        "$b^{[4]} := b^{[4]} - \\alpha db^{[4]}$\n",
        "\n",
        "$W^{[3]} := W^{[3]} - \\alpha dW^{[3]}$\n",
        "\n",
        "$b^{[3]} := b^{[3]} - \\alpha db^{[3]}$\n",
        "\n",
        "$W^{[2]} := W^{[2]} - \\alpha dW^{[2]}$\n",
        "\n",
        "$b^{[2]} := b^{[2]} - \\alpha db^{[2]}$\n",
        "\n",
        "$W^{[1]} := W^{[1]} - \\alpha dW^{[1]}$\n",
        "\n",
        "$b^{[1]} := b^{[1]} - \\alpha db^{[1]}$\n",
        "\n",
        "## ReLU\n",
        "$F(x) = \\max(0, x)$\n",
        "\n",
        "## Softmax\n",
        "$\\text{softmax}(x_i) = \\frac{e^{x_i}}{\\sum_{j=1}^{n} e^{x_j}}$\n",
        "\n",
        "## Variables and Shapes\n",
        "\n",
        "### Forward Pass\n",
        "* $A^{[0]} = X$: 784 x m\n",
        "* $Z^{[1]} \\sim A^{[1]}$: 100 x m\n",
        "* $W^{[1]}$: 100 x 784 (as $W^{[1]} A^{[0]} \\sim Z^{[1]}$)\n",
        "* $b^{[1]}$: 100 x 1\n",
        "* $Z^{[2]} \\sim A^{[2]}$: 50 x m\n",
        "* $W^{[2]}$: 50 x 100 (as $W^{[2]} A^{[1]} \\sim Z^{[2]}$)\n",
        "* $b^{[2]}$: 50 x 1\n",
        "* $Z^{[3]} \\sim A^{[3]}$: 20 x m\n",
        "* $W^{[3]}$: 20 x 50 (as $W^{[3]} A^{[2]} \\sim Z^{[3]}$)\n",
        "* $b^{[3]}$: 20 x 1\n",
        "* $Z^{[4]} \\sim A^{[4]}$: 10 x m\n",
        "* $W^{[4]}$: 10 x 20 (as $W^{[4]} A^{[3]} \\sim Z^{[4]}$)\n",
        "* $b^{[4]}$: 10 x 1\n",
        "\n",
        "### Backpropagation\n",
        "* $dZ^{[4]}$: 10 x m ($\\sim A^{[4]}$)\n",
        "* $dW^{[4]}$: 10 x 20\n",
        "* $dB^{[4]}$: 10 x 1\n",
        "* $dZ^{[3]}$: 20 x m ($\\sim A^{[3]}$)\n",
        "* $dW^{[3]}$: 20 x 50\n",
        "* $dB^{[3]}$: 20 x 1\n",
        "* $dZ^{[2]}$: 50 x m ($\\sim A^{[2]}$)\n",
        "* $dW^{[2]}$: 50 x 100\n",
        "* $dB^{[2]}$: 50 x 1\n",
        "* $dZ^{[1]}$: 100 x m ($\\sim A^{[1]}$)\n",
        "* $dW^{[1]}$: 100 x 784\n",
        "* $dB^{[1]}$: 100 x 1\n",
        "\n",
        "### Parameters:\n",
        "- $\\alpha$: Learning rate (default is 0.001)"
      ]
    },
    {
      "cell_type": "code",
      "execution_count": 115,
      "metadata": {
        "id": "h8ylCS7puU-h"
      },
      "outputs": [],
      "source": [
        "def one_hot(Y):\n",
        "    num_classes = int(np.max(Y)) + 1  # MNIST has 10 classes\n",
        "    one_hot_Y = np.zeros((Y.size, num_classes))\n",
        "    one_hot_Y[np.arange(Y.size), Y] = 1\n",
        "    return one_hot_Y.T\n",
        "\n",
        "# Augmentation functions\n",
        "def random_rotation(image, angle_range=(-15, 15)):\n",
        "    angle = np.random.uniform(angle_range[0], angle_range[1])\n",
        "    return rotate(image, angle, reshape=False, mode='nearest')\n",
        "\n",
        "def random_shift(image, shift_range=(-2, 2)):\n",
        "    shift_values = [np.random.uniform(shift_range[0], shift_range[1]) for _ in range(2)]\n",
        "    return shift(image, shift_values, mode='nearest')\n",
        "\n",
        "def random_zoom(image, zoom_range=(0.9, 1.1)):\n",
        "    zoom_factor = np.random.uniform(zoom_range[0], zoom_range[1])\n",
        "    zoomed_image = zoom(image, zoom_factor, order=1)\n",
        "    return zoomed_image\n",
        "\n",
        "def resize_image(image, shape=(28, 28)):\n",
        "    zoom_factors = (shape[0] / image.shape[0], shape[1] / image.shape[1])\n",
        "    return zoom(image, zoom_factors, order=1)\n",
        "\n",
        "def augment_image(image):\n",
        "    image = image.reshape(28, 28)\n",
        "    image = random_rotation(image)\n",
        "    image = random_shift(image)\n",
        "    image = random_zoom(image)\n",
        "    image = resize_image(image, (28, 28))  # Ensure shape remains consistent\n",
        "    return image.flatten()\n",
        "\n",
        "def augment_data(X):\n",
        "    augmented_X = np.zeros_like(X)\n",
        "    for i in range(X.shape[0]):\n",
        "        augmented_X[i] = augment_image(X[i])\n",
        "    return augmented_X\n",
        "\n",
        "def init_params():\n",
        "    W1 = np.random.randn(100, 784) * np.sqrt(2 / 784)\n",
        "    b1 = np.zeros((100, 1))\n",
        "    W2 = np.random.randn(50, 100) * np.sqrt(2 / 100)\n",
        "    b2 = np.zeros((50, 1))\n",
        "    W3 = np.random.randn(20, 50) * np.sqrt(2 / 50)\n",
        "    b3 = np.zeros((20, 1))\n",
        "    W4 = np.random.randn(10, 20) * np.sqrt(2 / 20)\n",
        "    b4 = np.zeros((10, 1))\n",
        "    return W1, b1, W2, b2, W3, b3, W4, b4\n",
        "\n",
        "\n",
        "# Activation functions\n",
        "def ReLU(Z):\n",
        "    return np.maximum(0, Z)\n",
        "\n",
        "def softmax(Z):\n",
        "    expZ = np.exp(Z - np.max(Z, axis=0, keepdims=True))\n",
        "    return expZ / expZ.sum(axis=0, keepdims=True)\n",
        "\n",
        "def ReLU_derivative(Z):\n",
        "    return Z > 0\n",
        "\n",
        "# Dropout\n",
        "def dropout(A, keep_prob):\n",
        "    D = np.random.rand(*A.shape) < keep_prob\n",
        "    A = A * D\n",
        "    A = A / keep_prob\n",
        "    return A, D\n",
        "\n",
        "# Forward pass\n",
        "def forward_pass(X, W1, b1, W2, b2, W3, b3, W4, b4, keep_prob=0.8):\n",
        "    Z1 = W1.dot(X) + b1\n",
        "    A1 = ReLU(Z1)\n",
        "    if keep_prob < 1.0:\n",
        "        A1, D1 = dropout(A1, keep_prob)\n",
        "    else:\n",
        "        D1 = None\n",
        "\n",
        "    Z2 = W2.dot(A1) + b2\n",
        "    A2 = ReLU(Z2)\n",
        "    if keep_prob < 1.0:\n",
        "        A2, D2 = dropout(A2, keep_prob)\n",
        "    else:\n",
        "        D2 = None\n",
        "\n",
        "    Z3 = W3.dot(A2) + b3\n",
        "    A3 = ReLU(Z3)\n",
        "    if keep_prob < 1.0:\n",
        "        A3, D3 = dropout(A3, keep_prob)\n",
        "    else:\n",
        "        D3 = None\n",
        "\n",
        "    Z4 = W4.dot(A3) + b4\n",
        "    A4 = softmax(Z4)\n",
        "\n",
        "    return Z1, A1, D1, Z2, A2, D2, Z3, A3, D3, Z4, A4\n",
        "\n",
        "def backward_prop(X, Y, Z1, A1, D1, Z2, A2, D2, Z3, A3, D3, Z4, A4, W2, W3, W4, keep_prob=0.8):\n",
        "    m = X.shape[1]\n",
        "\n",
        "    if len(Y.shape) == 1:\n",
        "        Y = one_hot(Y)\n",
        "\n",
        "    # Output layer\n",
        "    dZ4 = A4 - Y\n",
        "    dW4 = 1/m * dZ4.dot(A3.T)\n",
        "    db4 = 1/m * np.sum(dZ4, axis=1, keepdims=True)\n",
        "\n",
        "    # Third hidden layer\n",
        "    dA3 = W4.T.dot(dZ4)\n",
        "    dA3 = dA3 * D3 / keep_prob\n",
        "    dZ3 = dA3 * ReLU_derivative(Z3)\n",
        "    dW3 = 1/m * dZ3.dot(A2.T)\n",
        "    db3 = 1/m * np.sum(dZ3, axis=1, keepdims=True)\n",
        "\n",
        "    # Second hidden layer\n",
        "    dA2 = W3.T.dot(dZ3)\n",
        "    dA2 = dA2 * D2 / keep_prob\n",
        "    dZ2 = dA2 * ReLU_derivative(Z2)\n",
        "    dW2 = 1/m * dZ2.dot(A1.T)\n",
        "    db2 = 1/m * np.sum(dZ2, axis=1, keepdims=True)\n",
        "\n",
        "    # First hidden layer\n",
        "    dA1 = W2.T.dot(dZ2)\n",
        "    dA1 = dA1 * D1 / keep_prob\n",
        "    dZ1 = dA1 * ReLU_derivative(Z1)\n",
        "    dW1 = 1/m * dZ1.dot(X.T)\n",
        "    db1 = 1/m * np.sum(dZ1, axis=1, keepdims=True)\n",
        "\n",
        "    return dW1, db1, dW2, db2, dW3, db3, dW4, db4\n",
        "\n",
        "\n",
        "\n",
        "def update_params(W1, b1, W2, b2, W3, b3, W4, b4, dW1, db1, dW2, db2, dW3, db3, dW4, db4, alpha):\n",
        "    W1 = W1 - alpha * dW1\n",
        "    b1 = b1 - alpha * db1\n",
        "    W2 = W2 - alpha * dW2\n",
        "    b2 = b2 - alpha * db2\n",
        "    W3 = W3 - alpha * dW3\n",
        "    b3 = b3 - alpha * db3\n",
        "    W4 = W4 - alpha * dW4\n",
        "    b4 = b4 - alpha * db4\n",
        "\n",
        "    return W1, b1, W2, b2, W3, b3, W4, b4\n",
        "\n",
        "\n"
      ]
    },
    {
      "cell_type": "code",
      "execution_count": 116,
      "metadata": {
        "id": "D894jIhQ3Gnt"
      },
      "outputs": [],
      "source": [
        "X_train_augmented = augment_data(X_train)"
      ]
    },
    {
      "cell_type": "code",
      "execution_count": 117,
      "metadata": {
        "id": "8z8-pUQPuY4k"
      },
      "outputs": [],
      "source": [
        "def gradient_descent(X, Y, alpha, iterations, decay_rate=0.1, decay_step=100):\n",
        "\n",
        "    m = X.shape[0]\n",
        "\n",
        "    W1, b1, W2, b2, W3, b3, W4, b4 = init_params()\n",
        "\n",
        "    for i in range(iterations):\n",
        "        Z1, A1, D1, Z2, A2, D2, Z3, A3, D3, Z4, A4 = forward_pass(X.T, W1, b1, W2, b2, W3, b3, W4, b4)\n",
        "\n",
        "        dW1, db1, dW2, db2, dW3, db3, dW4, db4 = backward_prop(X.T, Y, Z1, A1, D1, Z2, A2, D2, Z3, A3, D3, Z4, A4, W2, W3, W4)\n",
        "\n",
        "        W1, b1, W2, b2, W3, b3, W4, b4 = update_params(\n",
        "            W1, b1, W2, b2, W3, b3, W4, b4,\n",
        "            dW1, db1, dW2, db2, dW3, db3, dW4, db4,\n",
        "            alpha\n",
        "        )\n",
        "\n",
        "        if i % decay_step == 0 and i != 0:\n",
        "          alpha = alpha / (1 + decay_rate * (i // decay_step))\n",
        "\n",
        "        if i % 10 == 0:\n",
        "            predictions = np.argmax(A4, axis=0)\n",
        "            if len(Y.shape) == 1:\n",
        "                Y_one_hot = one_hot(Y)\n",
        "                accuracy = np.mean(predictions == np.argmax(Y_one_hot, axis=0))\n",
        "            else:\n",
        "                accuracy = np.mean(predictions == np.argmax(Y, axis=0))\n",
        "            print(f\"Iteration {i}, Accuracy: {accuracy}, Learning Rate: {alpha}\")\n",
        "\n",
        "    return W1, b1, W2, b2, W3, b3, W4, b4\n",
        "\n"
      ]
    },
    {
      "cell_type": "code",
      "execution_count": 118,
      "metadata": {
        "colab": {
          "base_uri": "https://localhost:8080/"
        },
        "id": "8G0NtgZiucD6",
        "outputId": "ee92a47d-7b09-4940-998f-34838a52dc58"
      },
      "outputs": [
        {
          "output_type": "stream",
          "name": "stdout",
          "text": [
            "Iteration 0, Accuracy: 0.09134146341463414, Learning Rate: 0.05\n",
            "Iteration 10, Accuracy: 0.1207560975609756, Learning Rate: 0.05\n",
            "Iteration 20, Accuracy: 0.16278048780487805, Learning Rate: 0.05\n",
            "Iteration 30, Accuracy: 0.1970487804878049, Learning Rate: 0.05\n",
            "Iteration 40, Accuracy: 0.22653658536585367, Learning Rate: 0.05\n",
            "Iteration 50, Accuracy: 0.2559512195121951, Learning Rate: 0.05\n",
            "Iteration 60, Accuracy: 0.27814634146341466, Learning Rate: 0.05\n",
            "Iteration 70, Accuracy: 0.3023658536585366, Learning Rate: 0.05\n",
            "Iteration 80, Accuracy: 0.32090243902439025, Learning Rate: 0.05\n",
            "Iteration 90, Accuracy: 0.34504878048780485, Learning Rate: 0.05\n",
            "Iteration 100, Accuracy: 0.36141463414634145, Learning Rate: 0.05\n",
            "Iteration 110, Accuracy: 0.37590243902439024, Learning Rate: 0.05\n",
            "Iteration 120, Accuracy: 0.3912439024390244, Learning Rate: 0.05\n",
            "Iteration 130, Accuracy: 0.4031707317073171, Learning Rate: 0.05\n",
            "Iteration 140, Accuracy: 0.4135853658536585, Learning Rate: 0.05\n",
            "Iteration 150, Accuracy: 0.42690243902439023, Learning Rate: 0.05\n",
            "Iteration 160, Accuracy: 0.4385121951219512, Learning Rate: 0.05\n",
            "Iteration 170, Accuracy: 0.4499268292682927, Learning Rate: 0.05\n",
            "Iteration 180, Accuracy: 0.4614390243902439, Learning Rate: 0.05\n",
            "Iteration 190, Accuracy: 0.4732682926829268, Learning Rate: 0.05\n",
            "Iteration 200, Accuracy: 0.4801951219512195, Learning Rate: 0.05\n",
            "Iteration 210, Accuracy: 0.48941463414634145, Learning Rate: 0.05\n",
            "Iteration 220, Accuracy: 0.49841463414634146, Learning Rate: 0.05\n",
            "Iteration 230, Accuracy: 0.5110243902439024, Learning Rate: 0.05\n",
            "Iteration 240, Accuracy: 0.5188292682926829, Learning Rate: 0.05\n",
            "Iteration 250, Accuracy: 0.5236341463414634, Learning Rate: 0.045454545454545456\n",
            "Iteration 260, Accuracy: 0.5340731707317073, Learning Rate: 0.045454545454545456\n",
            "Iteration 270, Accuracy: 0.5402682926829269, Learning Rate: 0.045454545454545456\n",
            "Iteration 280, Accuracy: 0.5443902439024391, Learning Rate: 0.045454545454545456\n",
            "Iteration 290, Accuracy: 0.5508048780487805, Learning Rate: 0.045454545454545456\n",
            "Iteration 300, Accuracy: 0.5531219512195122, Learning Rate: 0.045454545454545456\n",
            "Iteration 310, Accuracy: 0.5612682926829269, Learning Rate: 0.045454545454545456\n",
            "Iteration 320, Accuracy: 0.5661951219512195, Learning Rate: 0.045454545454545456\n",
            "Iteration 330, Accuracy: 0.5748536585365853, Learning Rate: 0.045454545454545456\n",
            "Iteration 340, Accuracy: 0.5789756097560975, Learning Rate: 0.045454545454545456\n",
            "Iteration 350, Accuracy: 0.5797073170731707, Learning Rate: 0.045454545454545456\n",
            "Iteration 360, Accuracy: 0.5879268292682926, Learning Rate: 0.045454545454545456\n",
            "Iteration 370, Accuracy: 0.5899024390243902, Learning Rate: 0.045454545454545456\n",
            "Iteration 380, Accuracy: 0.5929024390243902, Learning Rate: 0.045454545454545456\n",
            "Iteration 390, Accuracy: 0.5994390243902439, Learning Rate: 0.045454545454545456\n",
            "Iteration 400, Accuracy: 0.6033170731707317, Learning Rate: 0.045454545454545456\n",
            "Iteration 410, Accuracy: 0.6054878048780488, Learning Rate: 0.045454545454545456\n",
            "Iteration 420, Accuracy: 0.609609756097561, Learning Rate: 0.045454545454545456\n",
            "Iteration 430, Accuracy: 0.6152195121951219, Learning Rate: 0.045454545454545456\n",
            "Iteration 440, Accuracy: 0.6226829268292683, Learning Rate: 0.045454545454545456\n",
            "Iteration 450, Accuracy: 0.6206341463414634, Learning Rate: 0.045454545454545456\n",
            "Iteration 460, Accuracy: 0.6262926829268293, Learning Rate: 0.045454545454545456\n",
            "Iteration 470, Accuracy: 0.6318780487804878, Learning Rate: 0.045454545454545456\n",
            "Iteration 480, Accuracy: 0.6361951219512195, Learning Rate: 0.045454545454545456\n",
            "Iteration 490, Accuracy: 0.6341219512195122, Learning Rate: 0.045454545454545456\n",
            "Iteration 500, Accuracy: 0.6378780487804878, Learning Rate: 0.03787878787878788\n",
            "Iteration 510, Accuracy: 0.6417317073170732, Learning Rate: 0.03787878787878788\n",
            "Iteration 520, Accuracy: 0.6473170731707317, Learning Rate: 0.03787878787878788\n",
            "Iteration 530, Accuracy: 0.6500975609756098, Learning Rate: 0.03787878787878788\n",
            "Iteration 540, Accuracy: 0.6481951219512195, Learning Rate: 0.03787878787878788\n",
            "Iteration 550, Accuracy: 0.6524634146341464, Learning Rate: 0.03787878787878788\n",
            "Iteration 560, Accuracy: 0.6567317073170732, Learning Rate: 0.03787878787878788\n",
            "Iteration 570, Accuracy: 0.6536585365853659, Learning Rate: 0.03787878787878788\n",
            "Iteration 580, Accuracy: 0.6600731707317073, Learning Rate: 0.03787878787878788\n",
            "Iteration 590, Accuracy: 0.6621463414634147, Learning Rate: 0.03787878787878788\n",
            "Iteration 600, Accuracy: 0.6631463414634147, Learning Rate: 0.03787878787878788\n",
            "Iteration 610, Accuracy: 0.6681707317073171, Learning Rate: 0.03787878787878788\n",
            "Iteration 620, Accuracy: 0.6707804878048781, Learning Rate: 0.03787878787878788\n",
            "Iteration 630, Accuracy: 0.6702439024390244, Learning Rate: 0.03787878787878788\n",
            "Iteration 640, Accuracy: 0.6714390243902439, Learning Rate: 0.03787878787878788\n",
            "Iteration 650, Accuracy: 0.6773170731707318, Learning Rate: 0.03787878787878788\n",
            "Iteration 660, Accuracy: 0.6751707317073171, Learning Rate: 0.03787878787878788\n",
            "Iteration 670, Accuracy: 0.6763658536585366, Learning Rate: 0.03787878787878788\n",
            "Iteration 680, Accuracy: 0.6829268292682927, Learning Rate: 0.03787878787878788\n",
            "Iteration 690, Accuracy: 0.6843902439024391, Learning Rate: 0.03787878787878788\n",
            "Iteration 700, Accuracy: 0.686219512195122, Learning Rate: 0.03787878787878788\n",
            "Iteration 710, Accuracy: 0.6855853658536586, Learning Rate: 0.03787878787878788\n",
            "Iteration 720, Accuracy: 0.6899268292682926, Learning Rate: 0.03787878787878788\n",
            "Iteration 730, Accuracy: 0.6920487804878048, Learning Rate: 0.03787878787878788\n",
            "Iteration 740, Accuracy: 0.6958292682926829, Learning Rate: 0.03787878787878788\n",
            "Iteration 750, Accuracy: 0.6949268292682926, Learning Rate: 0.029137529137529136\n",
            "Iteration 760, Accuracy: 0.6930975609756097, Learning Rate: 0.029137529137529136\n",
            "Iteration 770, Accuracy: 0.6972682926829268, Learning Rate: 0.029137529137529136\n",
            "Iteration 780, Accuracy: 0.6979756097560975, Learning Rate: 0.029137529137529136\n",
            "Iteration 790, Accuracy: 0.7032926829268292, Learning Rate: 0.029137529137529136\n",
            "Iteration 800, Accuracy: 0.7024390243902439, Learning Rate: 0.029137529137529136\n",
            "Iteration 810, Accuracy: 0.7045365853658536, Learning Rate: 0.029137529137529136\n",
            "Iteration 820, Accuracy: 0.7036829268292683, Learning Rate: 0.029137529137529136\n",
            "Iteration 830, Accuracy: 0.7075121951219512, Learning Rate: 0.029137529137529136\n",
            "Iteration 840, Accuracy: 0.7076341463414634, Learning Rate: 0.029137529137529136\n",
            "Iteration 850, Accuracy: 0.7103414634146341, Learning Rate: 0.029137529137529136\n",
            "Iteration 860, Accuracy: 0.7080243902439024, Learning Rate: 0.029137529137529136\n",
            "Iteration 870, Accuracy: 0.7104390243902439, Learning Rate: 0.029137529137529136\n",
            "Iteration 880, Accuracy: 0.7126585365853658, Learning Rate: 0.029137529137529136\n",
            "Iteration 890, Accuracy: 0.7121951219512195, Learning Rate: 0.029137529137529136\n",
            "Iteration 900, Accuracy: 0.7166585365853658, Learning Rate: 0.029137529137529136\n",
            "Iteration 910, Accuracy: 0.7150975609756097, Learning Rate: 0.029137529137529136\n",
            "Iteration 920, Accuracy: 0.7172195121951219, Learning Rate: 0.029137529137529136\n",
            "Iteration 930, Accuracy: 0.7201463414634146, Learning Rate: 0.029137529137529136\n",
            "Iteration 940, Accuracy: 0.720609756097561, Learning Rate: 0.029137529137529136\n",
            "Iteration 950, Accuracy: 0.7223170731707317, Learning Rate: 0.029137529137529136\n",
            "Iteration 960, Accuracy: 0.7216585365853658, Learning Rate: 0.029137529137529136\n",
            "Iteration 970, Accuracy: 0.723390243902439, Learning Rate: 0.029137529137529136\n",
            "Iteration 980, Accuracy: 0.7294634146341463, Learning Rate: 0.029137529137529136\n",
            "Iteration 990, Accuracy: 0.7290243902439024, Learning Rate: 0.029137529137529136\n"
          ]
        }
      ],
      "source": [
        "# Train the model\n",
        "W1, b1, W2, b2, W3, b3, W4, b4 = gradient_descent(X_train_augmented, Y_train, alpha=0.050, iterations=1000, decay_step=250)\n"
      ]
    },
    {
      "cell_type": "code",
      "execution_count": 123,
      "metadata": {
        "colab": {
          "base_uri": "https://localhost:8080/"
        },
        "id": "uRTfYN7Tuej4",
        "outputId": "c4954bc3-6f59-4d05-dc4b-316ac5526e93"
      },
      "outputs": [
        {
          "output_type": "stream",
          "name": "stdout",
          "text": [
            "Development set accuracy: 0.919\n"
          ]
        }
      ],
      "source": [
        "# Evaluate the model\n",
        "Z1, A1, _, Z2, A2, _, Z3, A3, _, Z4, A4 = forward_pass( X_dev.T, W1, b1, W2, b2, W3, b3, W4, b4, keep_prob=1.0 )\n",
        "\n",
        "predictions = np.argmax(A4, axis=0)\n",
        "if len(Y_dev.shape) == 2:\n",
        "    true_labels = np.argmax(Y_dev, axis=1)\n",
        "else:\n",
        "    true_labels = Y_dev\n",
        "\n",
        "accuracy = np.mean(predictions == true_labels)\n",
        "print(f\"Development set accuracy: {accuracy}\")\n",
        "\n",
        "\n",
        "\n",
        "def display_prediction(index):\n",
        "    plt.imshow(X_dev[index].reshape(28, 28), cmap='gray')\n",
        "\n",
        "    if len(Y_dev.shape) == 1:  # 1D labels\n",
        "        plt.title(f\"Prediction: {predictions[index]}, True Label: {Y_dev[index]}\")\n",
        "    elif len(Y_dev.shape) == 2:  # One-hot encoded labels\n",
        "        plt.title(f\"Prediction: {predictions[index]}, True Label: {np.argmax(Y_dev[:, index])}\")\n",
        "\n",
        "    plt.show()"
      ]
    },
    {
      "cell_type": "code",
      "execution_count": 120,
      "metadata": {
        "colab": {
          "base_uri": "https://localhost:8080/",
          "height": 1000
        },
        "id": "eAFvUR_nuggg",
        "outputId": "a0ea0a3e-47a9-4e4f-f2e2-620e96778976"
      },
      "outputs": [
        {
          "output_type": "display_data",
          "data": {
            "text/plain": [
              "<Figure size 640x480 with 1 Axes>"
            ],
            "image/png": "[encoded data removed]"
          },
          "metadata": {}
        },
        {
          "output_type": "display_data",
          "data": {
            "text/plain": [
              "<Figure size 640x480 with 1 Axes>"
            ],
            "image/png": "[encoded data removed]"
          },
          "metadata": {}
        },
        {
          "output_type": "display_data",
          "data": {
            "text/plain": [
              "<Figure size 640x480 with 1 Axes>"
            ],
            "image/png": "[encoded data removed]"
          },
          "metadata": {}
        },
        {
          "output_type": "display_data",
          "data": {
            "text/plain": [
              "<Figure size 640x480 with 1 Axes>"
            ],
            "image/png": "[encoded data removed]"
          },
          "metadata": {}
        }
      ],
      "source": [
        "display_prediction(0)\n",
        "display_prediction(1)\n",
        "display_prediction(2)\n",
        "display_prediction(3)"
      ]
    }
  ],
  "metadata": {
    "colab": {
      "provenance": [],
      "mount_file_id": "1qb0gcwx0y7Ov317eUcll6149WvPIjBut",
      "authorship_tag": "ABX9TyOQzM9chjz3I3paENu4wS3q",
      "include_colab_link": true
    },
    "kernelspec": {
      "display_name": "Python 3",
      "name": "python3"
    },
    "language_info": {
      "name": "python"
    }
  },
  "nbformat": 4,
  "nbformat_minor": 0
}