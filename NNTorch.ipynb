{
  "nbformat": 4,
  "nbformat_minor": 0,
  "metadata": {
    "colab": {
      "provenance": [],
      "authorship_tag": "ABX9TyNOYptgukDqOBrracZX042n",
      "include_colab_link": true
    },
    "kernelspec": {
      "name": "python3",
      "display_name": "Python 3"
    },
    "language_info": {
      "name": "python"
    }
  },
  "cells": [
    {
      "cell_type": "markdown",
      "metadata": {
        "id": "view-in-github",
        "colab_type": "text"
      },
      "source": [
        "<a href=\"https://colab.research.google.com/github/ARuizChang/NeuralNetworks/blob/main/NNTorch.ipynb\" target=\"_parent\"><img src=\"https://colab.research.google.com/assets/colab-badge.svg\" alt=\"Open In Colab\"/></a>"
      ]
    },
    {
      "cell_type": "code",
      "source": [
        "!wget https://raw.githubusercontent.com/ARuizChang/NeuralNetworks/refs/heads/main/train.csv"
      ],
      "metadata": {
        "colab": {
          "base_uri": "https://localhost:8080/"
        },
        "id": "7QNQIrV-knJr",
        "outputId": "065735ef-c16d-4a51-f94d-864689fd42ca"
      },
      "execution_count": 84,
      "outputs": [
        {
          "output_type": "stream",
          "name": "stdout",
          "text": [
            "--2025-02-03 14:55:45--  https://raw.githubusercontent.com/ARuizChang/NeuralNetworks/refs/heads/main/train.csv\n",
            "Resolving raw.githubusercontent.com (raw.githubusercontent.com)... 185.199.108.133, 185.199.109.133, 185.199.110.133, ...\n",
            "Connecting to raw.githubusercontent.com (raw.githubusercontent.com)|185.199.108.133|:443... connected.\n",
            "HTTP request sent, awaiting response... 200 OK\n",
            "Length: 76733040 (73M) [text/plain]\n",
            "Saving to: ‘train.csv.11’\n",
            "\n",
            "train.csv.11        100%[===================>]  73.18M   249MB/s    in 0.3s    \n",
            "\n",
            "2025-02-03 14:55:45 (249 MB/s) - ‘train.csv.11’ saved [76733040/76733040]\n",
            "\n"
          ]
        }
      ]
    },
    {
      "cell_type": "code",
      "execution_count": 85,
      "metadata": {
        "id": "YwDnGUjNkMyU"
      },
      "outputs": [],
      "source": [
        "import torch\n",
        "import torch.nn as nn\n",
        "import torch.nn.functional as F\n",
        "import random\n",
        "import matplotlib.pyplot as plt\n",
        "%matplotlib inline"
      ]
    },
    {
      "cell_type": "code",
      "source": [
        "data = open('train.csv').read().splitlines()"
      ],
      "metadata": {
        "id": "2zw6xU3mkam-"
      },
      "execution_count": 86,
      "outputs": []
    },
    {
      "cell_type": "code",
      "source": [
        "data = data[1:]\n",
        "random.shuffle(data)\n",
        "\n",
        "rows = [line.split(',') for line in data]\n",
        "\n",
        "preY = [row[0] for row in rows]\n",
        "preY = [int(label) for label in preY]\n",
        "\n",
        "preX = [row[1:] for row in rows]\n",
        "preX = [[int(pixel) for pixel in row] for row in preX]\n",
        "\n",
        "Y = torch.tensor(preY, dtype=torch.int64)\n",
        "X = torch.tensor(preX, dtype=torch.float32) / 255.0\n",
        "\n",
        "Y.shape, X.shape"
      ],
      "metadata": {
        "colab": {
          "base_uri": "https://localhost:8080/"
        },
        "id": "en74jtUVHo67",
        "outputId": "291f5a0f-4c37-4d14-8cae-9cd5d41ccb0d"
      },
      "execution_count": 87,
      "outputs": [
        {
          "output_type": "execute_result",
          "data": {
            "text/plain": [
              "(torch.Size([42000]), torch.Size([42000, 784]))"
            ]
          },
          "metadata": {},
          "execution_count": 87
        }
      ]
    },
    {
      "cell_type": "code",
      "source": [
        "class NN(nn.Module):\n",
        "  def __init__(self):\n",
        "    super(NN, self).__init__()\n",
        "    self.l1 = nn.Linear(784, 100)\n",
        "    self.l2 = nn.Linear(100, 50)\n",
        "    self.l3 = nn.Linear(50, 20)\n",
        "    self.l4 = nn.Linear(20, 10)\n",
        "\n",
        "  def forward(self, x):\n",
        "    x = torch.relu(self.l1(x))\n",
        "    x = torch.relu(self.l2(x))\n",
        "    x = torch.relu(self.l3(x))\n",
        "    x = self.l4(x)\n",
        "    return x"
      ],
      "metadata": {
        "id": "uOIuw7_qEu_A"
      },
      "execution_count": 88,
      "outputs": []
    },
    {
      "cell_type": "code",
      "source": [
        "model = NN()"
      ],
      "metadata": {
        "id": "Yyotg_EHGry8"
      },
      "execution_count": 89,
      "outputs": []
    },
    {
      "cell_type": "code",
      "source": [
        "lossfn = nn.CrossEntropyLoss()"
      ],
      "metadata": {
        "id": "0c8I74qiPw_I"
      },
      "execution_count": 90,
      "outputs": []
    },
    {
      "cell_type": "code",
      "source": [
        "for k in range(100):\n",
        "  inputData = X\n",
        "  target = F.one_hot(Y, num_classes=10).float()\n",
        "\n",
        "  output = model(inputData)\n",
        "\n",
        "  loss = lossfn(output, target)\n",
        "\n",
        "  model.zero_grad()\n",
        "  loss.backward()\n",
        "\n",
        "  lr = 0.01\n",
        "\n",
        "  with torch.no_grad():\n",
        "    for p in model.parameters():\n",
        "      p -= lr * p.grad\n",
        "  if k % 100 == 0:\n",
        "    print(f'loss: {loss.item()}')"
      ],
      "metadata": {
        "colab": {
          "base_uri": "https://localhost:8080/"
        },
        "id": "1ZQvhmwkGu9j",
        "outputId": "5f6d2f87-c8d5-4f26-bfb0-e045999f4e01"
      },
      "execution_count": 91,
      "outputs": [
        {
          "output_type": "stream",
          "name": "stdout",
          "text": [
            "loss: 2.311796188354492\n"
          ]
        }
      ]
    }
  ]
}